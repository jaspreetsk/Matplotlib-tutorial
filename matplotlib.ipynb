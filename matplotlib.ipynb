{
 "cells": [
  {
   "cell_type": "markdown",
   "id": "b013a612",
   "metadata": {},
   "source": [
    "### Load Necessary Libraries"
   ]
  },
  {
   "cell_type": "code",
   "execution_count": null,
   "id": "87431b77",
   "metadata": {},
   "outputs": [],
   "source": [
    "import matplotlib.pyplot as plt\n",
    "import numpy as np\n",
    "import pandas as pd"
   ]
  },
  {
   "cell_type": "markdown",
   "id": "6f6d0699",
   "metadata": {},
   "source": [
    "### Basic Graph"
   ]
  },
  {
   "cell_type": "code",
   "execution_count": null,
   "id": "7fe8b64c",
   "metadata": {},
   "outputs": [],
   "source": [
    "x,y=[0,1,2,3,4],[0,2,4,6,8]\n",
    "\n",
    "# plt.plot(x,y,label='2x',\n",
    "#          color='red',\n",
    "#          linewidth=2,\n",
    "#          marker='.',\n",
    "#          markersize=10,\n",
    "#          markeredgecolor='blue',\n",
    "#          linestyle='--')\n",
    "\n",
    "# Using shorthand notation\n",
    "# fmt= '[color][marker][line]'\n",
    "\n",
    "plt.plot(x,y,\n",
    "         'b^--',\n",
    "         label='2x',\n",
    "         )\n",
    "\n",
    "# Line number 2\n",
    "\n",
    "x2= np.arange(0,4.5,0.5)\n",
    "plt.plot(x2,x2**2,'r',label='x^2')\n",
    "\n",
    "\n",
    "plt.title('Our First Graph!', fontdict={'fontname':'Comic Sans MS', 'fontsize':20})\n",
    "\n",
    "plt.xlabel('X Axis',fontdict={'fontname':'Comic Sans MS'})\n",
    "plt.ylabel('Y Axis')\n",
    "\n",
    "plt.xticks([0,1,2,3,4])\n",
    "# plt.yticks([0,2,4,6,8,10])\n",
    "\n",
    "plt.legend()\n",
    "\n",
    "plt.show()"
   ]
  },
  {
   "cell_type": "code",
   "execution_count": null,
   "id": "2b2bdbcf",
   "metadata": {},
   "outputs": [],
   "source": [
    "x,y=[0,1,2,3,4],[0,2,4,6,8]\n",
    "\n",
    "# Resize your graph\n",
    "plt.figure(figsize=(5,3),dpi=100)\n",
    "\n",
    "# Line 1\n",
    "# keyword argument notations\n",
    "\n",
    "# plt.plot(x,y,label='2x',\n",
    "#          color='red',\n",
    "#          linewidth=2,\n",
    "#          marker='.',\n",
    "#          markersize=10,\n",
    "#          markeredgecolor='blue',\n",
    "#          linestyle='--')\n",
    "\n",
    "# Using shorthand notation\n",
    "# fmt= '[color][marker][line]'\n",
    "\n",
    "plt.plot(x,y,\n",
    "         'b^--',\n",
    "         label='2x',\n",
    "         )\n",
    "\n",
    "# Line number 2\n",
    "\n",
    "# select interval we want to plot points at\n",
    "x2= np.arange(0,4.5,0.5)\n",
    "# plot part of the graph as a line\n",
    "plt.plot(x2[:6],x2[:6]**2,'r',label='x^2')\n",
    "# plot remainder of the graph as a dashed line\n",
    "plt.plot(x2[5:],x2[5:]**2,'r--',label='x^2')\n",
    "\n",
    "\n",
    "# Add a title (specify font paraments with fontdict)\n",
    "plt.title('Our First Graph!', fontdict={'fontname':'Comic Sans MS', 'fontsize':20})\n",
    "\n",
    "# X and Y labels\n",
    "plt.xlabel('X Axis',fontdict={'fontname':'Comic Sans MS'})\n",
    "plt.ylabel('Y Axis')\n",
    "\n",
    "# X, Y axis tickmarks (scale of your graph)\n",
    "\n",
    "plt.xticks([0,1,2,3,4])\n",
    "# plt.yticks([0,2,4,6,8,10])\n",
    "\n",
    "# add a legend\n",
    "plt.legend()\n",
    "\n",
    "# save the figure\n",
    "plt.savefig('mygraph.png',dpi=300)\n",
    "\n",
    "# show the plot\n",
    "plt.show()"
   ]
  },
  {
   "cell_type": "markdown",
   "id": "30be0b7d",
   "metadata": {},
   "source": [
    "### Bar Chart"
   ]
  },
  {
   "cell_type": "code",
   "execution_count": null,
   "id": "fb08c8fc",
   "metadata": {},
   "outputs": [],
   "source": [
    "labels=['A','B','C']\n",
    "values=[1,4,2]\n",
    "\n",
    "bars=plt.bar(labels,values)\n",
    "\n",
    "# bars[0].set_hatch('/')\n",
    "# bars[1].set_hatch('O')\n",
    "# bars[2].set_hatch('*')\n",
    "\n",
    "patterns=['/','O','*']\n",
    "\n",
    "for bar in bars:\n",
    "    bar.set_hatch(patterns.pop(0)) # to pop out / from the array; remove 0 to pop * aka last item\n",
    "\n",
    "\n",
    "plt.figure(figsize=(6,4))\n",
    "\n",
    "plt.show()"
   ]
  },
  {
   "cell_type": "markdown",
   "id": "3c26561d",
   "metadata": {},
   "source": [
    "# Real World Examples"
   ]
  },
  {
   "cell_type": "markdown",
   "id": "f9c191ee",
   "metadata": {},
   "source": [
    "### Line Graph"
   ]
  },
  {
   "cell_type": "code",
   "execution_count": null,
   "id": "5ed71d52",
   "metadata": {},
   "outputs": [],
   "source": [
    "gas=pd.read_csv('gas_prices.csv')\n",
    "\n",
    "plt.figure(figsize=(8,5))\n",
    "\n",
    "plt.title('Gas prices over time (in USD)',fontdict={'fontweight':'bold','fontsize':22})\n",
    "\n",
    "plt.plot(gas.Year,gas.USA,'b.-',label='United States of America')\n",
    "plt.plot(gas.Year,gas.Canada,'r.-',label='Canada')\n",
    "plt.plot(gas.Year,gas['South Korea'],'g.-',label='South Korea')\n",
    "plt.plot(gas.Year,gas.Australia,'y.-',label='Australia')\n",
    "\n",
    "# Another way to plot many values\n",
    "\n",
    "# countries_to_look_at=['Australia','USA','Canada','South Korea']\n",
    "\n",
    "# for country in gas:\n",
    "#     if (country!='Year') and (country in countries_to_look_at):\n",
    "#         plt.plot(gas.Year, gas[country],marker='.',label=country)\n",
    "\n",
    "plt.xticks(gas.Year[::3].tolist()+[2011])\n",
    "\n",
    "plt.xlabel('Year')\n",
    "plt.ylabel('US Dollars')\n",
    "\n",
    "plt.legend()\n",
    "\n",
    "plt.savefig('gas_prices_figure.png',dpi=300)\n",
    "\n",
    "plt.show()"
   ]
  },
  {
   "cell_type": "markdown",
   "id": "daecf9f3",
   "metadata": {},
   "source": [
    "### Load FIFA data"
   ]
  },
  {
   "cell_type": "code",
   "execution_count": null,
   "id": "efdee4bf",
   "metadata": {},
   "outputs": [],
   "source": [
    "fifa=pd.read_csv('fifa_data.csv')\n",
    "fifa"
   ]
  },
  {
   "cell_type": "markdown",
   "id": "878e1dc5",
   "metadata": {},
   "source": [
    "### Histograms"
   ]
  },
  {
   "cell_type": "code",
   "execution_count": null,
   "id": "b04ac28c",
   "metadata": {},
   "outputs": [],
   "source": [
    "bins=[40,50,60,70,80,90,100]\n",
    "\n",
    "plt.hist(fifa.Overall,bins=bins,color='#abcdef')\n",
    "\n",
    "plt.xticks(bins)\n",
    "\n",
    "plt.ylabel('Number of Players')\n",
    "plt.xlabel('Skill Level')\n",
    "plt.title('Distribution of players\\' skills in FIFA 2018')\n",
    "\n",
    "plt.show()"
   ]
  },
  {
   "cell_type": "markdown",
   "id": "0af6184a",
   "metadata": {},
   "source": [
    "### Pie Charts"
   ]
  },
  {
   "cell_type": "code",
   "execution_count": null,
   "id": "ecb70a73",
   "metadata": {},
   "outputs": [],
   "source": [
    "fifa['Preferred Foot']"
   ]
  },
  {
   "cell_type": "code",
   "execution_count": null,
   "id": "77831ad7",
   "metadata": {},
   "outputs": [],
   "source": [
    "left=fifa.loc[fifa['Preferred Foot']=='Left'].count()[0]\n",
    "right=fifa.loc[fifa['Preferred Foot']=='Right'].count()[0]\n",
    "\n",
    "labels=['Left','Right']\n",
    "colors=[\"#85df40\",\"#7836d4\"]\n",
    "\n",
    "plt.pie([left,right],labels=labels,colors=colors,autopct='%.2f %%')\n",
    "\n",
    "plt.title('Foot Preference of FIFA Players')\n",
    "\n",
    "plt.show()"
   ]
  },
  {
   "cell_type": "code",
   "execution_count": null,
   "id": "0db01ceb",
   "metadata": {},
   "outputs": [],
   "source": [
    "fifa.Weight= [int(x.strip('lbs')) if type(x)==str else x for x in fifa.Weight]\n",
    "\n",
    "plt.style.use('ggplot')\n",
    "\n",
    "light=fifa.loc[fifa.Weight<125].count()[0]\n",
    "light_medium=fifa.loc[(fifa.Weight>=125) & (fifa.Weight<150)].count()[0]\n",
    "medium=fifa.loc[(fifa.Weight>=150) & (fifa.Weight<175)].count()[0]\n",
    "medium_heavy=fifa.loc[(fifa.Weight>=175) & (fifa.Weight<200)].count()[0]\n",
    "heavy=fifa.loc[fifa.Weight>=200].count()[0]\n",
    "\n",
    "weights=[light,light_medium,medium,medium_heavy,heavy]\n",
    "labels=['under 125','125-150','150-175','175-200','over 200']\n",
    "explode=(.4,.2,0,0,0.4)\n",
    "\n",
    "plt.title('Weight Distribution of FIFA Players (in Pounds)')\n",
    "\n",
    "plt.pie(weights,labels=labels,pctdistance=0.8,autopct='%.2f %%',explode=explode)\n",
    "\n",
    "plt.show()"
   ]
  },
  {
   "cell_type": "code",
   "execution_count": null,
   "id": "98cd7d38",
   "metadata": {},
   "outputs": [],
   "source": [
    "plt.style.use('default')\n",
    "\n",
    "plt.figure(figsize=(9,16))\n",
    "\n",
    "barcelona=fifa.loc[fifa.Club=='FC Barcelona']['Overall']\n",
    "madrid=fifa.loc[fifa.Club=='Real Madrid']['Overall']\n",
    "revs=fifa.loc[fifa.Club=='New England Revolution']['Overall']\n",
    "labels=['FC Barcelona','Real Madrid','New England Revolution']\n",
    "\n",
    "boxes=plt.boxplot([barcelona,madrid,revs],labels=labels,patch_artist=True,medianprops={'linewidth':2})\n",
    "\n",
    "for box in boxes['boxes']:\n",
    "    # set edge color\n",
    "    box.set(color='#4286f4',linewidth=2)\n",
    "\n",
    "    # change fill color\n",
    "    box.set(facecolor='#e0e0e0')\n",
    "\n",
    "plt.title('Professional Football Team Comparison')\n",
    "plt.ylabel('FIFA Overall Rating')\n",
    "\n",
    "plt.show()"
   ]
  },
  {
   "cell_type": "code",
   "execution_count": null,
   "id": "e0fa4917",
   "metadata": {},
   "outputs": [],
   "source": []
  }
 ],
 "metadata": {
  "kernelspec": {
   "display_name": "jskre",
   "language": "python",
   "name": "python3"
  },
  "language_info": {
   "codemirror_mode": {
    "name": "ipython",
    "version": 3
   },
   "file_extension": ".py",
   "mimetype": "text/x-python",
   "name": "python",
   "nbconvert_exporter": "python",
   "pygments_lexer": "ipython3",
   "version": "3.12.3"
  }
 },
 "nbformat": 4,
 "nbformat_minor": 5
}
